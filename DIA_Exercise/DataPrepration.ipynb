{
 "cells": [
  {
   "cell_type": "code",
   "execution_count": 1,
   "metadata": {},
   "outputs": [
    {
     "name": "stdout",
     "output_type": "stream",
     "text": [
      "Requirement already satisfied: nltk in /Library/Frameworks/Python.framework/Versions/3.10/lib/python3.10/site-packages (3.8.1)\n",
      "Requirement already satisfied: click in /Library/Frameworks/Python.framework/Versions/3.10/lib/python3.10/site-packages (from nltk) (8.1.7)\n",
      "Requirement already satisfied: joblib in /Library/Frameworks/Python.framework/Versions/3.10/lib/python3.10/site-packages (from nltk) (1.2.0)\n",
      "Requirement already satisfied: regex>=2021.8.3 in /Library/Frameworks/Python.framework/Versions/3.10/lib/python3.10/site-packages (from nltk) (2023.10.3)\n",
      "Requirement already satisfied: tqdm in /Library/Frameworks/Python.framework/Versions/3.10/lib/python3.10/site-packages (from nltk) (4.64.1)\n",
      "\n",
      "\u001b[1m[\u001b[0m\u001b[34;49mnotice\u001b[0m\u001b[1;39;49m]\u001b[0m\u001b[39;49m A new release of pip is available: \u001b[0m\u001b[31;49m23.3.1\u001b[0m\u001b[39;49m -> \u001b[0m\u001b[32;49m23.3.2\u001b[0m\n",
      "\u001b[1m[\u001b[0m\u001b[34;49mnotice\u001b[0m\u001b[1;39;49m]\u001b[0m\u001b[39;49m To update, run: \u001b[0m\u001b[32;49mpip install --upgrade pip\u001b[0m\n",
      "Note: you may need to restart the kernel to use updated packages.\n"
     ]
    }
   ],
   "source": [
    "pip install nltk"
   ]
  },
  {
   "cell_type": "code",
   "execution_count": 1,
   "metadata": {},
   "outputs": [],
   "source": [
    "import os\n",
    "import gdown\n",
    "\n",
    "def download_file(file_id, file_path):\n",
    "  if not os.path.exists(file_path):\n",
    "     gdown.download(f'https://drive.google.com/uc?id={file_id}', file_path, quiet=False)\n",
    "\n",
    "dblp_file_id = '1FfXoF1C2VEJ3dGxJRwtGUO4GyW5ZmSeO'\n",
    "dblp_file_path = '/Users/aliaslan/Downloads/DIA_Exercise/Citations-files/dblp.txt'\n",
    "\n",
    "acm_file_id = '1cDFohEvRMGF8OAN-gRPQeg5sHoXVDoi2'\n",
    "acm_file_path = '/Users/aliaslan/Downloads/DIA_Exercise/Citations-files/acm.txt'\n",
    "\n",
    "download_file(dblp_file_id, dblp_file_path)\n",
    "download_file(acm_file_id, acm_file_path)"
   ]
  },
  {
   "cell_type": "code",
   "execution_count": 13,
   "metadata": {},
   "outputs": [],
   "source": [
    "import pandas as pd\n",
    "import scipy.stats as stats\n",
    "import matplotlib.pyplot as plt\n",
    "import numpy as np\n",
    "import uuid\n",
    "import string\n",
    "from nltk.stem.snowball import SnowballStemmer\n",
    "import re\n",
    "\n",
    "def read_file(file_path):\n",
    "    with open(file_path, 'r', encoding='utf-8') as file:\n",
    "        lines = file.readlines()\n",
    "\n",
    "    data_list = []\n",
    "    current_entry = {}\n",
    "    for line in lines:\n",
    "        if line.startswith(\"#*\"):\n",
    "            current_entry['paper_title'] = line[2:].strip()\n",
    "        elif line.startswith(\"#@\"):\n",
    "            current_entry['author_names'] = line[2:].strip()\n",
    "        elif line.startswith(\"#t\"):\n",
    "            current_entry['year'] = line[2:].strip()\n",
    "        elif line.startswith(\"#c\"):\n",
    "            current_entry['publication_venue'] = line[2:].strip()\n",
    "        elif line.startswith(\"#index\"):\n",
    "            current_entry['index'] = line[6:].strip()\n",
    "        elif line.strip() == \"\":\n",
    "            data_list.append(current_entry)\n",
    "            current_entry = {}\n",
    "\n",
    "    return pd.DataFrame(data_list)\n",
    "\n",
    "\n",
    "# fill years before filtering\n",
    "def filling_years(dataframe, filling_method):\n",
    "    filling_method = filling_method.lower()\n",
    "    if 'year' not in dataframe.columns:\n",
    "        raise ValueError('The dataframe must contain a column named \"year\"')\n",
    "    if filling_method not in ['median', 'mean', 'mode']:\n",
    "        raise ValueError('Invalid filling method')\n",
    "    if dataframe['year'].isnull().sum().any():\n",
    "        if(filling_method == 'median'):\n",
    "            median_year = dataframe['year'].median()\n",
    "            dataframe['year'] = dataframe['year'].fillna(median_year)\n",
    "        elif(filling_method == 'mean'):\n",
    "            mean_year = dataframe['year'].mean()\n",
    "            dataframe['year'] = dataframe['year'].fillna(mean_year)\n",
    "        else:\n",
    "            mode_year = dataframe['year'].mode()\n",
    "            dataframe['year'] = dataframe['year'].fillna(mode_year)\n",
    "\n",
    "    return dataframe\n",
    "\n",
    "def distribution_of_year(dataframe, ylim, yticks, xlim, xticks):\n",
    "    year_array = dataframe['year'].to_numpy()\n",
    "\n",
    "    plt.ylim(ylim)\n",
    "    plt.yticks(yticks)\n",
    "    plt.xlim(xlim)\n",
    "    plt.xticks(xticks)\n",
    "   \n",
    "    # Calculate skewness\n",
    "    skewness = stats.skew(year_array)\n",
    "    # Calculate kurtosis\n",
    "    kurtosis = stats.kurtosis(year_array)\n",
    "     # Print the distribution\n",
    "    print(f'Skewness: {skewness:.3f}')\n",
    "    print(f'Kurtosis: {kurtosis:.3f}')\n",
    "\n",
    "    plt.hist(year_array)\n",
    "    plt.xlabel('Year')\n",
    "    plt.ylabel('Count')\n",
    "    plt.title('Distribution of years')\n",
    "    plt.show()\n",
    "\n",
    "    # Interpretation of skewness and kurtosis\n",
    "    # Skewness used Treshold 0.1, because its commonly used\n",
    "    # Kurtosis uses a Treshold of 3 where 3 = normal, >3 peakend and <3 = flat and I consider minimal differences up to 2 still as somewhat normal\n",
    "    # therefore 2.8 and 3.2\n",
    "    if skewness < 0.1 and 2.8 <= kurtosis <= 3.2 :\n",
    "        print('The distribution is approximately normal.')\n",
    "    elif skewness > 0.1:\n",
    "        print('The distribution is skewed to the right.')\n",
    "    elif skewness < -0.1:\n",
    "        print('The distribution is skewed to the left.')\n",
    "    if kurtosis > 3.2:\n",
    "        print('The distribution is peaked.')\n",
    "    elif kurtosis < 2.8:\n",
    "        print('The distribution is flat.')\n",
    "\n",
    "default_values = {'paper_title' : 'Untitled', 'author_names' : 'unamed'}\n",
    "\n",
    "# Removal off duplicates and filling NaN values for paper_title and author_names (after filtering)\n",
    "def cleansing_data(dataframe):\n",
    "    if(dataframe.isnull().sum().any()):\n",
    "           dataframe.fillna(default_values, inplace=True)\n",
    "    if(dataframe['index'].isnull().sum().any()):\n",
    "        unique_values = [str(uuid.uuid4().hex) for i in range(dataframe['index'].isnull().sum())]\n",
    "        dataframe.loc[dataframe['index'].isnull(), 'index'] = unique_values\n",
    "    return dataframe\n",
    "\n",
    "def remove_punctuation_from_columns(df, columns):\n",
    "    for column in columns:\n",
    "        df.loc[:, column] = df[column].replace(to_replace=f'[{string.punctuation}]', value='', regex=True)\n",
    "    return df\n",
    "\n",
    "#def clean_text(dataframe):\n",
    "#    return dataframe.map(lambda x: x.lower().strip() if isinstance(x, str) else x)\n",
    "\n",
    "def clean_text1(dataframe):\n",
    "    return dataframe.map(lambda x: re.sub(r'\\s+', ' ', str(x).lower().strip()) if isinstance(x, str) else x)\n",
    "\n",
    "# should we use it?\n",
    "def apply_stem(dataframe, columns):\n",
    "    stemmer = SnowballStemmer(\"english\")\n",
    "    for col in columns:\n",
    "        dataframe[col] = dataframe[col].apply(lambda x: [stemmer.stem(y) for y in x])\n",
    "    return dataframe\n",
    "\n",
    "\n",
    "\n",
    "\n",
    "  "
   ]
  },
  {
   "cell_type": "code",
   "execution_count": 3,
   "metadata": {},
   "outputs": [],
   "source": [
    "dblp_data = read_file(dblp_file_path)\n",
    "dblp_data['year'] = pd.to_numeric(dblp_data['year'], errors='coerce')\n",
    "acm_data = read_file(acm_file_path)\n",
    "acm_data['year'] = pd.to_numeric(acm_data['year'], errors='coerce')"
   ]
  },
  {
   "cell_type": "code",
   "execution_count": 4,
   "metadata": {},
   "outputs": [
    {
     "name": "stdout",
     "output_type": "stream",
     "text": [
      "Skewness: -5.940\n",
      "Kurtosis: 1045.746\n"
     ]
    },
    {
     "data": {
      "image/png": "[encoded data removed]",
      "text/plain": [
       "<Figure size 640x480 with 1 Axes>"
      ]
     },
     "metadata": {},
     "output_type": "display_data"
    },
    {
     "name": "stdout",
     "output_type": "stream",
     "text": [
      "The distribution is skewed to the left.\n",
      "The distribution is peaked.\n"
     ]
    }
   ],
   "source": [
    "dblp_data_without_NaN_Years = dblp_data.dropna(subset=['year'])\n",
    "ylim = (0, 4000000)\n",
    "yticks = (np.arange(0, 4000001, 500000))\n",
    "xlim = (1800, 2023)\n",
    "xticks = (np.arange(1800, 2024, 50))\n",
    "distribution_of_year(dblp_data_without_NaN_Years, ylim, yticks, xlim, xticks) "
   ]
  },
  {
   "cell_type": "code",
   "execution_count": 5,
   "metadata": {},
   "outputs": [
    {
     "name": "stdout",
     "output_type": "stream",
     "text": [
      "Skewness: -1.289\n",
      "Kurtosis: 1.864\n"
     ]
    },
    {
     "data": {
      "image/png": "[encoded data removed]",
      "text/plain": [
       "<Figure size 640x480 with 1 Axes>"
      ]
     },
     "metadata": {},
     "output_type": "display_data"
    },
    {
     "name": "stdout",
     "output_type": "stream",
     "text": [
      "The distribution is skewed to the left.\n",
      "The distribution is flat.\n"
     ]
    }
   ],
   "source": [
    "acm_data_without_NaN_Years = acm_data.dropna(subset=['year'])\n",
    "ylim = (0, 40000)\n",
    "yticks = (np.arange(0, 4000001, 500000))\n",
    "xlim = (1950, 2023)\n",
    "xticks = (np.arange(1950, 2024, 25))\n",
    "distribution_of_year(acm_data_without_NaN_Years, ylim, yticks , xlim, xticks) "
   ]
  },
  {
   "cell_type": "code",
   "execution_count": 14,
   "metadata": {},
   "outputs": [],
   "source": [
    "# filling years cause it's important for filtering\n",
    "dlbp_data = filling_years(dblp_data, 'mean')\n",
    "acm_data = filling_years(acm_data, 'mean')\n",
    "\n",
    "#filter\n",
    "dblp_data = dblp_data[(dblp_data['year'] >= 1995) & (dblp_data['year'] <= 2004) &\n",
    "                     (dblp_data['publication_venue'].str.contains('SIGMOD|VLDB', case=False))]\n",
    "acm_data = acm_data[(acm_data['year'] >= 1995) & (acm_data['year'] <= 2004) &\n",
    "                     (acm_data['publication_venue'].str.contains('SIGMOD|VLDB', case=False))]\n",
    "\n",
    "# remove duplicates, fill NaN values for Authors and Paper and generate unique ID for NaN ones\n",
    "dblp_data = cleansing_data(dblp_data)\n",
    "acm_data = cleansing_data(acm_data)\n",
    "\n",
    "# remove punctations\n",
    "columns_to_process = [\"paper_title\", \"publication_venue\"]\n",
    "dblp_data = remove_punctuation_from_columns(dblp_data, columns_to_process)\n",
    "acm_data = remove_punctuation_from_columns(acm_data, columns_to_process)\n",
    "\n",
    "# remove question marks of author names didnt use the method, because if we remove punctations it removes dots real example:\n",
    "# laks v. s. = laks v  s (not sure if this is good) and if we should remove the commas too \n",
    "# did not work?\n",
    "#dblp_data.loc[:,'author_names'] = dblp_data['author_names'].str.strip('\\\"')\n",
    "#acm_data.loc[:,'author_names'] = acm_data['author_names'].str.strip('\\\"')\n",
    "\n",
    "# lower it and strip\n",
    "dblp_data = clean_text1(dblp_data)\n",
    "acm_data = clean_text1(acm_data)\n",
    "\n",
    "#dblp_data = apply_stem(dblp_data, columns_to_process)\n",
    "#acm_data = apply_stem(acm_data, columns_to_process)\n",
    "\n",
    "# year as int\n",
    "dblp_data['year'] = dblp_data['year'].astype(int)\n",
    "acm_data['year'] = acm_data['year'].astype(int)\n"
   ]
  },
  {
   "cell_type": "code",
   "execution_count": 16,
   "metadata": {},
   "outputs": [],
   "source": [
    "# change order\n",
    "order = ['paper_title', 'author_names', 'year', 'publication_venue', 'index']\n",
    "dblp_data = dblp_data[order]\n",
    "acm_data = acm_data[order]\n",
    "\n",
    "#Specify the path and save as CSV\n",
    "output_csv_path = '/Users/aliaslan/Downloads/DIA_Exercise/CSV-files/dblp.csv'\n",
    "dblp_data.to_csv(output_csv_path, index=False)\n",
    "\n",
    "output_csv_path = '/Users/aliaslan/Downloads/DIA_Exercise/CSV-files/acm.csv'\n",
    "acm_data.to_csv(output_csv_path, index=False)"
   ]
  },
  {
   "cell_type": "code",
   "execution_count": 20,
   "metadata": {},
   "outputs": [
    {
     "name": "stdout",
     "output_type": "stream",
     "text": [
      "                            title\n",
      "0  natur languag process techniqu\n",
      "1     machin learn in cyber secur\n",
      "2   realist imag generat with gan\n"
     ]
    }
   ],
   "source": [
    "import pandas as pd\n",
    "from nltk.stem.snowball import SnowballStemmer\n",
    "\n",
    "\n",
    "# example of stemming should we apply it or not? It's recoomend, but looks kinda weird like techniques stemmed should been technique and not \n",
    "# techniqu\n",
    "def apply_stemming(df, title_column):\n",
    "    stemmer = SnowballStemmer(\"english\")\n",
    "    df[title_column] = df[title_column].apply(lambda title: ' '.join([stemmer.stem(word) for word in title.split()]))\n",
    "    return df\n",
    "\n",
    "\n",
    "data = {'title': ['Natural Language Processing Techniques', 'Machine Learning in Cyber Security', 'realistic Image generation with GANs']}\n",
    "df = pd.DataFrame(data)\n",
    "\n",
    "df_stemmed_titles = apply_stemming(df, 'title')\n",
    "\n",
    "# Display the result\n",
    "print(df_stemmed_titles)\n"
   ]
  }
 ],
 "metadata": {
  "kernelspec": {
   "display_name": "Python 3",
   "language": "python",
   "name": "python3"
  },
  "language_info": {
   "codemirror_mode": {
    "name": "ipython",
    "version": 3
   },
   "file_extension": ".py",
   "mimetype": "text/x-python",
   "name": "python",
   "nbconvert_exporter": "python",
   "pygments_lexer": "ipython3",
   "version": "3.10.9"
  },
  "orig_nbformat": 4
 },
 "nbformat": 4,
 "nbformat_minor": 2
}
